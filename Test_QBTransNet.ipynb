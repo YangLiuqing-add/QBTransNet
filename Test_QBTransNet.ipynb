{
 "cells": [
  {
   "cell_type": "code",
   "execution_count": 1,
   "id": "521e6737-ebae-41a7-a420-1eebeaa0a081",
   "metadata": {},
   "outputs": [],
   "source": [
    "import numpy as np\n",
    "import h5py\n",
    "import tensorflow as tf\n",
    "from tensorflow.keras.layers import Input, Conv2D, MaxPool2D,Flatten,MaxPooling2D,ZeroPadding2D,Concatenate,Lambda,Softmax,GlobalAveragePooling1D,MaxPooling1D,SpatialDropout1D,ReLU, Dense, Activation,Reshape,BatchNormalization, add, Embedding,Conv1D,LayerNormalization,MultiHeadAttention,Add,Dropout,Layer\n",
    "from tensorflow.keras.models import Model\n",
    "from tensorflow.keras.callbacks import ModelCheckpoint, LearningRateScheduler, ReduceLROnPlateau, EarlyStopping\n",
    "from tensorflow.keras.models import load_model\n",
    "from Uilts import *\n",
    "from capsulelayers import *"
   ]
  },
  {
   "cell_type": "code",
   "execution_count": 2,
   "id": "0dc19987-0743-4220-b47c-5d12ee917f35",
   "metadata": {},
   "outputs": [
    {
     "name": "stdout",
     "output_type": "stream",
     "text": [
      "datall shape: (6444, 20, 6000, 3)\n",
      "laballx shape: (6444,)\n",
      "3169 3275\n"
     ]
    }
   ],
   "source": [
    "\n",
    "with h5py.File('./Dataset/data_train.h5', 'r') as hf:\n",
    "    datall = hf['datall'][:]     \n",
    "    laballx = hf['laballx'][:]  \n",
    "\n",
    "print(\"datall shape:\", datall.shape)   \n",
    "print(\"laballx shape:\", laballx.shape) \n",
    "\n",
    "laball = tf.keras.utils.to_categorical(laballx, num_classes=2)\n",
    "\n",
    "print(len(np.where(laballx == 0)[0]), len(np.where(laballx == 1)[0]))  \n"
   ]
  },
  {
   "cell_type": "code",
   "execution_count": 3,
   "id": "2e128c8d-9078-4bd3-8503-eca60ffb127e",
   "metadata": {},
   "outputs": [
    {
     "name": "stdout",
     "output_type": "stream",
     "text": [
      "(645, 20, 6000, 3)\n",
      "(5799, 2)\n"
     ]
    }
   ],
   "source": [
    "# Split dataset\n",
    "from sklearn.model_selection import train_test_split\n",
    "\n",
    "# np.random.seed(42)\n",
    "# io = np.random.permutation(len(datall))\n",
    "# datall = datall[io]\n",
    "# laball = laball[io]\n",
    "\n",
    "sp = 0.1\n",
    "x_train, x_test, y_train, y_test = train_test_split(datall, laball, test_size=sp, random_state=2024)\n",
    "print(x_test.shape)\n",
    "print(y_train.shape)"
   ]
  },
  {
   "cell_type": "code",
   "execution_count": 4,
   "id": "e06eb570-f179-4293-89f4-6ba183f68ea3",
   "metadata": {},
   "outputs": [
    {
     "name": "stdout",
     "output_type": "stream",
     "text": [
      "WARNING:tensorflow:From C:\\Users\\liuya444\\AppData\\Local\\anaconda3\\envs\\tf\\lib\\site-packages\\keras\\backend.py:7101: calling map_fn (from tensorflow.python.ops.map_fn) with dtype is deprecated and will be removed in a future version.\n",
      "Instructions for updating:\n",
      "Use fn_output_signature instead\n",
      "41/41 [==============================] - 3s 29ms/step\n"
     ]
    }
   ],
   "source": [
    "model = load_model('Epochs/best_model.h5',custom_objects={'margin_loss': margin_loss,'CapsuleLayer':CapsuleLayer,'Length':Length,'PatchEncoder':PatchEncoder,'Patches':Patches,'StochasticDepth':StochasticDepth})\n",
    "outte = model.predict([x_test],batch_size=16,verbose=1)"
   ]
  },
  {
   "cell_type": "code",
   "execution_count": 5,
   "id": "1564f896-150f-4075-9aa9-5c918636af4b",
   "metadata": {},
   "outputs": [
    {
     "name": "stdout",
     "output_type": "stream",
     "text": [
      "(645, 20, 6000, 3)\n",
      "cf_matrix: [[303   3]\n",
      " [  5 334]]\n"
     ]
    }
   ],
   "source": [
    "from sklearn.metrics import confusion_matrix\n",
    "print(x_test.shape)\n",
    "labtestx = y_test\n",
    "outtest = np.argmax(outte,axis=-1)\n",
    "labtestx= np.argmax(labtestx,axis=-1)\n",
    "\n",
    "cf_matrix = confusion_matrix(labtestx,outtest)\n",
    "print('cf_matrix:',cf_matrix)"
   ]
  },
  {
   "cell_type": "code",
   "execution_count": 6,
   "id": "4d2b1b22-eb34-4ad9-af75-26d67a905620",
   "metadata": {},
   "outputs": [
    {
     "name": "stdout",
     "output_type": "stream",
     "text": [
      "accuracy: 0.9875968992248062\n",
      "precision_score: 0.9910979228486647\n",
      "recall_score: 0.9852507374631269\n",
      "f1_score: 0.9881656804733727\n"
     ]
    }
   ],
   "source": [
    "from sklearn.metrics import accuracy_score, precision_score, recall_score, f1_score\n",
    "outtest = np.array(outtest)\n",
    "labtestx = np.array(labtestx)\n",
    "print('accuracy:',accuracy_score(labtestx, outtest))\n",
    "print('precision_score:',precision_score(labtestx, outtest))\n",
    "print('recall_score:',recall_score(labtestx, outtest))\n",
    "print('f1_score:',f1_score(labtestx, outtest))"
   ]
  },
  {
   "cell_type": "code",
   "execution_count": null,
   "id": "0ae3fc7b-d64a-458b-a0d2-bb62dd1ed210",
   "metadata": {},
   "outputs": [],
   "source": []
  }
 ],
 "metadata": {
  "kernelspec": {
   "display_name": "Python 3 (ipykernel)",
   "language": "python",
   "name": "python3"
  },
  "language_info": {
   "codemirror_mode": {
    "name": "ipython",
    "version": 3
   },
   "file_extension": ".py",
   "mimetype": "text/x-python",
   "name": "python",
   "nbconvert_exporter": "python",
   "pygments_lexer": "ipython3",
   "version": "3.8.19"
  }
 },
 "nbformat": 4,
 "nbformat_minor": 5
}
